{
 "cells": [
  {
   "cell_type": "markdown",
   "metadata": {},
   "source": [
    "# C105 Introduction to Programming\n",
    "## Lesson 10 Worksheet\n",
    "### Python Strings Manipulation\n",
    "This lesson will be covering some of the built-in String methods and Python built-in functions.\n"
   ]
  },
  {
   "cell_type": "markdown",
   "metadata": {
    "collapsed": true
   },
   "source": [
    "### <em><span style=\"color:Blue;\">Exercise 1</span>\n",
    "Write code to check that the user input for the phone number contains <u>only numbers</u>, has a <u>length of 8</u> and <u>begins with the number 8 or 9</u>. \n",
    "<br>\n",
    "For example A1234567 and 61234567 are INVALID numbers, 92227777 is a VALID number."
   ]
  },
  {
   "cell_type": "code",
   "execution_count": 2,
   "metadata": {},
   "outputs": [
    {
     "name": "stdout",
     "output_type": "stream",
     "text": [
      "Invalid entry - only numbers accepted.\n"
     ]
    }
   ],
   "source": [
    "#  ---------\n",
    "#  Exercise 1 - Write your answers here.\n",
    "#  ---------\n",
    "hp = input(\"Enter phone number: \")\n",
    "if hp.isdigit():\n",
    "    if len(hp)==8:\n",
    "        if hp.startswith(\"8\") or hp.startswith(\"9\"):\n",
    "            print(\"Valid phone number.\")\n",
    "        else:\n",
    "            print(\"Invalid entry - phone number must start with 8 or 9.\")\n",
    "    else:\n",
    "        print(\"Invalid entry - length must have 8 digits.\")\n",
    "else:\n",
    "    print(\"Invalid entry - only numbers accepted.\")\n"
   ]
  },
  {
   "cell_type": "markdown",
   "metadata": {},
   "source": [
    "### <em><span style=\"color:Blue;\">* Exercise 2</span>\n",
    "Write code to check that the user input for the student ID has a <u>length of 8</u> and <u>starts with the numbers 15, 16 or 17</u>.\n",
    "<br>\n",
    "For example 1234567 is an INVALID student ID, 15001234, 16006789, 17002468 are VALID student IDs."
   ]
  },
  {
   "cell_type": "code",
   "execution_count": 4,
   "metadata": {},
   "outputs": [
    {
     "name": "stdout",
     "output_type": "stream",
     "text": [
      "Valid student ID.\n"
     ]
    }
   ],
   "source": [
    "#  ---------\n",
    "#  Exercise 2 - Write your answers here.\n",
    "#  ---------\n",
    "ID= input(\"Enter student ID: \")\n",
    "if len(ID) == 8:\n",
    "    if ID.startswith(\"15\") or ID.startswith(\"16\") or ID.startswith(\"17\"):\n",
    "        print(\"Valid student ID.\")\n",
    "    else:\n",
    "        print(\"Invalid entry - must start with 15,16 or 17.\")\n",
    "else:\n",
    "    print(\"Invalid entry - length must be 8.\")"
   ]
  },
  {
   "cell_type": "markdown",
   "metadata": {},
   "source": [
    "### <em><span style=\"color:Blue;\">Exercise 3</span>\n",
    "Write code to check that the user input for the gender is either \"m\" or \"f\" <u>regardless of the casing</u>.  The user may enter the gender in uppercase.\n",
    "<br>\n",
    "For example m or f or M or F are valid, all other characters are invalid."
   ]
  },
  {
   "cell_type": "code",
   "execution_count": null,
   "metadata": {},
   "outputs": [],
   "source": [
    "#  ---------\n",
    "#  Exercise 3 - Write your answers here.\n",
    "#  ---------\n",
    "gender = input(\"Enter gender (m/f): \")\n",
    "gender = gender.lower()\n",
    "if gender == \"m\" or gender == \"f\":\n",
    "    print(\"Gender accepted.\")\n",
    "else:\n",
    "    print(\"Please enter m / f for gender\")"
   ]
  },
  {
   "cell_type": "markdown",
   "metadata": {},
   "source": [
    "### <em><span style=\"color:Blue;\">Exercise 4</span>\n",
    "Study the given code.  Identify the printed output for each code in the table below.<br>\n",
    "<pre>\n",
    "text = \"monday\"\n",
    "result = __________\n",
    "print(result)\n",
    "\n",
    "\n",
    "<table border=1>\n",
    "<tr><th>Code in the blank</th><th>Printed output</th></tr>\n",
    "<tr><td>text.isupper( )</td><td>_____False__________</td></tr>\n",
    "<tr><td>text.islower( )</td><td>______True_________</td></tr>\n",
    "<tr><td>text.startswith(\"M\")</td><td>______False_________</td></tr>\n",
    "<tr><td>text.startswith(\"m\")</td><td>_______True________</td></tr>\n",
    "<tr><td>text.endswith(\"Y\")</td><td>_______False________</td></tr>\n",
    "<tr><td>text.endswith(\"y\")</td><td>_______True________</td></tr>\n",
    "</table>\n",
    "Double click on the blanks and fill in your answers.\n",
    "</pre>"
   ]
  },
  {
   "cell_type": "markdown",
   "metadata": {},
   "source": [
    "***"
   ]
  },
  {
   "cell_type": "markdown",
   "metadata": {},
   "source": [
    "### <em><span style=\"color:Blue;\">Exercise 5</span>\n",
    "You are given the following <i>sentence</i> variable:<br>\n",
    "sentence = \"Today is a fine day\"<br>\n",
    "<br>\n",
    "Write code to count and print the total number of <u>letters</u> in the sentence variable.\n"
   ]
  },
  {
   "cell_type": "code",
   "execution_count": 5,
   "metadata": {},
   "outputs": [
    {
     "name": "stdout",
     "output_type": "stream",
     "text": [
      "The number of letters in the sentence is 15\n"
     ]
    }
   ],
   "source": [
    "#  ---------\n",
    "#  Exercise 5 - Write your answers here.\n",
    "#  ---------\n",
    "sentence = \"Today is a fine day\"\n",
    "sentence = sentence.replace(\" \",\"\")\n",
    "print(\"The number of letters in the sentence is \" + str(len(sentence)))"
   ]
  },
  {
   "cell_type": "markdown",
   "metadata": {},
   "source": [
    "***\n",
    "## Break a string to list of words - split()\n",
    "The <span style=\"color:Blue;\">split()</span> method is used to split a string to a list of words.\n",
    "<br>\n",
    "In other words, the <span style=\"color:Blue;\">split()</method> returns <u>a list of Strings</u>.\n",
    "<br>\n",
    "There are <strong>two (2)</strong> ways to use the split() method\n",
    "<ol>\n",
    "    <li>Calling the split() method <u>without any argument</u></li>\n",
    "    <li>Calling the split(delimiter) method <u>an argument</u></u></li>\n",
    "</ol>\n",
    "\n",
    "### 1.  Split() method without any argument\n",
    "Create a list of strings by splitting a sentence using the <u>space character (\" \")</u>\n",
    "<br>\n",
    "For example:\n",
    "```python\n",
    "mySentence = \"Today is a beautiful day.\"\n",
    "myList = mySentence.split()\n",
    "print(myList)\n",
    "```\n",
    "The expected output is:\n",
    "`['Today', 'is', 'a', 'beautiful', 'day.']`\n",
    "\n",
    "\n",
    "### 2.  Split() method with an argument, delimiter (a string)\n",
    "Create a list of strings by splitting a sentence using the <u>string</u> that is indicated as the argument.\n",
    "<br>\n",
    "For example:\n",
    "```python\n",
    "mySentence = \"Today is a beautiful day.\"\n",
    "myList = mySentence.split( \"da\"  )\n",
    "print(myList)\n",
    "```\n",
    "The expected output is:\n",
    "`['To', 'y is a beautiful ', 'y.']`\n",
    "\n",
    "### <em><span style=\"color:Blue;\">Exercise 6</span></em>\n",
    "Use `split()` to create the following list of strings using the string `sentence`:\n",
    "<br>\n",
    "A. ['What', 'a', 'fine', 'weather,', 'this', 'is', 'a', 'beautiful', 'day.']\n",
    "<br>\n",
    "B. ['What a fine weather', ' this is a beautiful day.']\n",
    "<br>\n",
    "C. ['Wh', 't ', ' fine we', 'ther, this is ', ' be', 'utiful d', 'y.']\n",
    "<br>\n",
    "D. ['What a fine weather, th', ' ', ' a beautiful day.']\n",
    "<br>\n",
    "E. ['What a fine weather, this is a beautiful day', '']\n",
    "\n",
    "\n",
    "    "
   ]
  },
  {
   "cell_type": "code",
   "execution_count": 6,
   "metadata": {},
   "outputs": [
    {
     "name": "stdout",
     "output_type": "stream",
     "text": [
      "['What', 'a', 'fine', 'weather,', 'this', 'is', 'a', 'beautiful', 'day.']\n",
      "['What a fine weather', ' this is a beautiful day.']\n",
      "['Wh', 't ', ' fine we', 'ther, this is ', ' be', 'utiful d', 'y.']\n",
      "['What a fine weather, th', ' ', ' a beautiful day.']\n",
      "['What a fine weather, this is a beautiful day', '']\n"
     ]
    }
   ],
   "source": [
    "#  ---------\n",
    "#  Exercise 6 - Execute the codes before attempting Exercises 14A to 14E\n",
    "#  ---------\n",
    "sentence = \"What a fine weather, this is a beautiful day.\"\n",
    "list = sentence.split()\n",
    "print(list)\n",
    "list = sentence.split(\",\")\n",
    "print(list)\n",
    "list = sentence.split(\"a\")\n",
    "print(list)\n",
    "list = sentence.split(\"is\")\n",
    "print(list)\n",
    "list = sentence.split(\".\")\n",
    "print(list)\n",
    "## Write your answers for Exercises 6A to Exercises 6E here.\n"
   ]
  },
  {
   "cell_type": "markdown",
   "metadata": {},
   "source": [
    "### <em><span style=\"color:Blue;\">Exercise 7</span>\n",
    "You are given the following <i>sentence</i> variable:<br>\n",
    "sentence = \"Today is a fine day\"<br>\n",
    "<br>\n",
    "Write code to count and print the total number of <u>words</u> in the sentence variable.\n",
    "<br>Hint: Look up on the split() method."
   ]
  },
  {
   "cell_type": "code",
   "execution_count": 7,
   "metadata": {},
   "outputs": [
    {
     "name": "stdout",
     "output_type": "stream",
     "text": [
      "The total number of words is 5\n"
     ]
    }
   ],
   "source": [
    "#  ---------\n",
    "#  Exercise 7 - Write your answers here.\n",
    "#  ---------\n",
    "sentence = \"Today is a fine day\"\n",
    "myList = sentence.split()\n",
    "print(\"The total number of words is \" + str(len(myList)))"
   ]
  },
  {
   "cell_type": "markdown",
   "metadata": {},
   "source": [
    "### <em><span style=\"color:Blue;\">Exercise 8</span>\n",
    "Study the given code.  Use the relevant String method to produce each printed output in the table below.<br>\n",
    "<pre>\n",
    "text = \"What Day? Monday?\"\n",
    "result = __________\n",
    "print(result)\n",
    "\n",
    "\n",
    "<table border=1>\n",
    "<tr><th>Printed output</th><th>Answer for the blank</th></tr>\n",
    "<tr><td>WHAT DAY? MONDAY?</td><td>text.upper()</td></tr>\n",
    "<tr><td>['What', 'Day?', 'Monday?']</td><td>text.split()</td></tr>\n",
    "<tr><td>What Day?! Monday?!</td><td>text.replace(\"?\",\"?!\")</td></tr>\n",
    "<tr><td>what day? monday?</td><td>text.lower()</td></tr>\n",
    "<tr><td>['Wh', 't D', 'y? Mond', 'y?']</td><td>text.split(\"a\")</td></tr>\n",
    "</table>\n",
    "Double click on the blanks and fill in your answers.\n",
    "</pre>"
   ]
  },
  {
   "cell_type": "markdown",
   "metadata": {},
   "source": [
    "***"
   ]
  }
 ],
 "metadata": {
  "kernelspec": {
   "display_name": "Python 3.8.6 64-bit",
   "language": "python",
   "name": "python3"
  },
  "language_info": {
   "codemirror_mode": {
    "name": "ipython",
    "version": 3
   },
   "file_extension": ".py",
   "mimetype": "text/x-python",
   "name": "python",
   "nbconvert_exporter": "python",
   "pygments_lexer": "ipython3",
   "version": "3.8.6"
  },
  "vscode": {
   "interpreter": {
    "hash": "9650cb4e16cdd4a8e8e2d128bf38d875813998db22a3c986335f89e0cb4d7bb2"
   }
  }
 },
 "nbformat": 4,
 "nbformat_minor": 2
}
