{
 "cells": [
  {
   "cell_type": "markdown",
   "metadata": {},
   "source": [
    "### <em><span style=\"color:Blue;\">Exercise 9</span>\n",
    "Write code to check that the user input for the email address contains 1 occurrence of \"@\" and 1 occurrence of \".\".\n",
    "<br>\n",
    "For example \"sharon\" is an INVALID email address, \"sharon@email.com\" is a VALID email address."
   ]
  },
  {
   "cell_type": "code",
   "execution_count": 2,
   "metadata": {},
   "outputs": [
    {
     "name": "stdout",
     "output_type": "stream",
     "text": [
      "Valid email address\n"
     ]
    }
   ],
   "source": [
    "#  ---------\n",
    "#  Exercise 8 - Write your answers here.\n",
    "#  ---------\n",
    "email = input(\"Enter email address: \")\n",
    "if email.count(\"@\") == 1 and email.count(\".\") == 1:\n",
    "    print(\"Valid email address\")\n",
    "else:\n",
    "    print(\"Invalid entry - 1 occurence of @ and 1 occurence of .\")"
   ]
  },
  {
   "cell_type": "markdown",
   "metadata": {},
   "source": [
    "### <em><span style=\"color:Blue;\">* Exercise 10</span>\n",
    "The Singapore postal code has 6 digits.  The first two digits of the Singapore postal code must be between 01 and 80 (inclusive).\n",
    "<br>Write code to check that the user input for the Singapore postal code is valid.<br>\n",
    "For example 12345 is an INVALID postal codes, 123456 and 738964 are VALID postal codes."
   ]
  },
  {
   "cell_type": "code",
   "execution_count": 4,
   "metadata": {},
   "outputs": [
    {
     "name": "stdout",
     "output_type": "stream",
     "text": [
      "Valid Singapore postal code.\n"
     ]
    }
   ],
   "source": [
    "#  ---------\n",
    "#  Exercise 10 - Write your answers here.\n",
    "#  ---------\n",
    "postal = input(\"Enter Singapore postal code: \")\n",
    "if len(postal) == 6:\n",
    "    postal = postal[0:2]\n",
    "    if int(postal) >= 1  and int(postal) <= 80 and postal.isdigit():\n",
    "        print(\"Valid Singapore postal code.\")\n",
    "    else:\n",
    "        print(\"Invalid Singapore postal code\")\n",
    "else:\n",
    "    print(\"Invalid Singapore postal code\")"
   ]
  },
  {
   "cell_type": "markdown",
   "metadata": {},
   "source": [
    "### <em><span style=\"color:Blue;\">Exercise 11a</span>\n",
    "Write a function <b><i>check_valid_password</i></b> that accepts a password as the input argument.\n",
    "<br><br>It returns True if the password has a minimum length of 10 and is alphanumeric.\n",
    "<br>Otherwise it returns False.<br>\n",
    "<br>Hint: Find out about isalnum method<br>\n",
    "For examples, \"abcd1234\" and \"abcd1234##@@\" are INVALID passwords, \"abcd123456\" is a VALID password."
   ]
  },
  {
   "cell_type": "code",
   "execution_count": 1,
   "metadata": {},
   "outputs": [],
   "source": [
    "#  ---------\n",
    "#  Exercise 11a - Write your answers here.\n",
    "#  ---------\n",
    "def check_valid_password(password):\n",
    "   if len(password) >= 10 and password.isalnum():\n",
    "      return True\n",
    "   else:\n",
    "      return False"
   ]
  },
  {
   "cell_type": "markdown",
   "metadata": {},
   "source": [
    "### <em><span style=\"color:Blue;\">Exercise 11b</span>\n",
    "Ask the user to enter a password and call the function <b><i>check_valid_password</i></b> to check its validity."
   ]
  },
  {
   "cell_type": "code",
   "execution_count": 12,
   "metadata": {},
   "outputs": [
    {
     "name": "stdout",
     "output_type": "stream",
     "text": [
      "Password is valid.\n"
     ]
    }
   ],
   "source": [
    "#  ---------\n",
    "#  Exercise 11b - Write your answers here.\n",
    "#  ---------\n",
    "password = input(\"Enter password: \")\n",
    "if check_valid_password(password):\n",
    "    print(\"Password is valid.\")\n",
    "else:\n",
    "    print(\"Password is invalid.\")"
   ]
  },
  {
   "cell_type": "markdown",
   "metadata": {},
   "source": [
    "### <em><span style=\"color:Blue;\">Exercise 12a</span>\n",
    "Write a function <b><i>count_vowel</i></b> <br>\n",
    "that accepts a word as the input argument and returns the total number of vowels in it.<br>\n",
    "<br>\n",
    "For examples, \"umbrella\" has 3 vowels and \"microscope\" has 4 vowels."
   ]
  },
  {
   "cell_type": "code",
   "execution_count": 2,
   "metadata": {},
   "outputs": [],
   "source": [
    "#  ---------\n",
    "#  Exercise 12a - Write your answers here.\n",
    "#  ---------\n",
    "def count_towel(word):\n",
    "    total = word.count(\"a\") + word.count(\"e\") + word.count(\"i\") + word.count(\"o\") + word.count(\"u\")\n",
    "    return total\n"
   ]
  },
  {
   "cell_type": "markdown",
   "metadata": {},
   "source": [
    "### <em><span style=\"color:Blue;\">Exercise 12b</span>\n",
    "Ask the user to enter a word and call the function <b><i>count_vowel</i></b> and print the number of vowels in the word."
   ]
  },
  {
   "cell_type": "code",
   "execution_count": 14,
   "metadata": {},
   "outputs": [
    {
     "name": "stdout",
     "output_type": "stream",
     "text": [
      "Number of vowels is 1\n"
     ]
    }
   ],
   "source": [
    "#  ---------\n",
    "#  Exercise 12b - Write your answers here.\n",
    "#  ---------\n",
    "word = input(\"Enter a word: \")\n",
    "print(\"Number of vowels is \" + str(count_towel(word)))"
   ]
  },
  {
   "cell_type": "markdown",
   "metadata": {},
   "source": [
    "***"
   ]
  },
  {
   "cell_type": "markdown",
   "metadata": {},
   "source": [
    "### <em><span style=\"color:Blue;\">Exercise 13</span>\n",
    "Use a <b><i>for</i></b> loop and the <b><i>drink</i></b> to produce the given output.\n",
    "<br><br>drink = \"coke sprite tea coffee\"\n",
    "<ol>\n",
    "<li>coke</li>\n",
    "<li>sprite</li>\n",
    "<li>tea</li>\n",
    "<li>coffee</li>\n",
    "</ol>\n",
    "<br><br>Hint: Convert the string to a list first.\n",
    "\n"
   ]
  },
  {
   "cell_type": "code",
   "execution_count": 5,
   "metadata": {},
   "outputs": [
    {
     "name": "stdout",
     "output_type": "stream",
     "text": [
      "1. coke\n",
      "2. sprite\n",
      "3. tea\n",
      "4. coffee\n"
     ]
    }
   ],
   "source": [
    "#  ---------\n",
    "#  Exercise 13 - Write your answers here.\n",
    "#  ---------\n",
    "drink = \"coke sprite tea coffee\"\n",
    "list = drink.split()\n",
    "for i in range(len(list)):\n",
    "    print(str(i+1) + \". \" + list[i])"
   ]
  },
  {
   "cell_type": "markdown",
   "metadata": {},
   "source": [
    "### <em><span style=\"color:Blue;\">Exercise 14</span>\n",
    "Use a <b><i>while</i></b> loop and the <b><i>drink</i></b> to produce the given output.\n",
    "<br><br>drink = \"coke sprite tea coffee\"\n",
    "<ol>\n",
    "<li>coke</li>\n",
    "<li>sprite</li>\n",
    "<li>tea</li>\n",
    "<li>coffee</li>\n",
    "</ol>\n",
    "<br><br>Hint: Convert the string to a list first."
   ]
  },
  {
   "cell_type": "code",
   "execution_count": 6,
   "metadata": {},
   "outputs": [
    {
     "name": "stdout",
     "output_type": "stream",
     "text": [
      "1. coke\n",
      "2. sprite\n",
      "3. tea\n",
      "4. coffee\n"
     ]
    }
   ],
   "source": [
    "#  ---------\n",
    "#  Exercise 14 - Write your answers here.\n",
    "#  ---------\n",
    "drink = \"coke sprite tea coffee\"\n",
    "list = drink.split()\n",
    "i = 0\n",
    "while i < len(list):\n",
    "    print(str(i+1) + \". \" + list[i])\n",
    "    i +=1"
   ]
  },
  {
   "cell_type": "markdown",
   "metadata": {},
   "source": [
    "### <em><span style=\"color:Blue;\">Exercise 15</span>\n",
    "Write a program with a <i>loop</i> that allows a user to specify the text to search in the variable paint.  If there are colour(s) found, it will print the colour(s) that contain the search text.  Otherwise, it will print “No such colour”.\n",
    "\n",
    "The following shows a few sample outputs of the program:\n",
    "\n",
    "![title](images/Exercise15.jpg) \n",
    "\n",
    "![title](images/Exercise15b.jpg)\n",
    "\n",
    "Complete the code for the program below.  The first line of the program is already given to you.\n",
    "\n",
    "paint = \\[\"red\", \"blue\", \"black\", \"yellow\", \"green\"\\]\n"
   ]
  },
  {
   "cell_type": "code",
   "execution_count": 7,
   "metadata": {},
   "outputs": [
    {
     "name": "stdout",
     "output_type": "stream",
     "text": [
      "blue\n",
      "black\n"
     ]
    }
   ],
   "source": [
    "#  ---------\n",
    "#  Exercise 15 - Write your answers here.\n",
    "#  ---------\n",
    "paint = [\"red\", \"blue\", \"black\", \"yellow\", \"green\"]\n",
    "text = input(\"Enter search text: \")\n",
    "found = False\n",
    "for color in paint:\n",
    "    if color.startswith(text):\n",
    "        print(color)\n",
    "        found = True\n",
    "\n",
    "if found == False:\n",
    "    print(\"No such colour\")\n",
    "\n"
   ]
  },
  {
   "cell_type": "markdown",
   "metadata": {},
   "source": [
    "***"
   ]
  },
  {
   "cell_type": "markdown",
   "metadata": {},
   "source": [
    "# Lecturer Demonstration \n",
    "\n",
    "Write a program that can ask a user to enter a string of words and print the acronym in <strong>upper case</strong>.\n",
    "<br>The acronym is formed by the first letter of each word.  If the string contains 2 or more words, they will be separated by a space. \n",
    "\n",
    "<br>You must use a loop in your answer.\n",
    "<br>The following shows a few sample program outputs in the shell:\n",
    "\n",
    "![title](images/LecturerDemo.jpg)"
   ]
  },
  {
   "cell_type": "code",
   "execution_count": null,
   "metadata": {},
   "outputs": [],
   "source": [
    "## Lecturer Demonstration\n"
   ]
  },
  {
   "cell_type": "markdown",
   "metadata": {},
   "source": [
    "# Your Practice Question -  License Plate Validator\n",
    "The car licence plate number of country Z has the following criteria to be valid:\n",
    "<ul><li>\n",
    "The first three characters must be alphabets (letters A to Z), with the first characters being the letter “Z”;</li>\n",
    "    <li>Followed by 4 numerical digits.</li>\n",
    "</ul>\n",
    "\n",
    "Examples of valid car licence plate numbers: ZBW4782, ZHA3579\n",
    "\n",
    "Examples of invalid car licence plate numbers:\n",
    "<ul>\n",
    "    <li>AB1232 (Does not begin with “Z” and third character is not an alphabet)</li>\n",
    "    <li>ZSH91 (Does not have 4 numerical digits)</li>\n",
    "    <li>ZMT53546 (Has 5 numerical digits)</li>\n",
    "</ul>\n",
    "### PART I\n",
    "Write a function called <b>isValidCarPlate</b> that takes in a string parameter named <b>car_plate</b>. The function will check if the string contains a valid car licence plate number.<br> If it does, the function returns a boolean value of <strong>True</strong>. Otherwise, the function returns a boolean value of <strong>False</strong>. Assume all alphabets entered are in upper-case.\n",
    "\n",
    "Sample output from the program is as shown below:\n",
    "\n",
    "![title](images/PractiseProblem-Function.jpg)\n",
    "\n"
   ]
  },
  {
   "cell_type": "code",
   "execution_count": 4,
   "metadata": {},
   "outputs": [],
   "source": [
    "# Write your codes for Part I here\n",
    "def isValidCarPlate(car_plate):\n",
    "   if car_plate.startswith(\"Z\") and len(car_plate)==7 and car_plate[0:3].isalpha() and car_plate[3:7].isdigit():\n",
    "      return True\n",
    "   else:\n",
    "      return False\n"
   ]
  },
  {
   "cell_type": "markdown",
   "metadata": {},
   "source": [
    "### Part II\n",
    "Write a program that will ask a user to enter a car licence plate number. If the car licence plate number is invalid, the program will repeatedly ask the user to input again until a valid car licence plate number is entered. \n",
    "<br><br>\n",
    "The program must call the function <strong>isValidCarPlate</strong> to verify the validity of a car plate entered by the user. You do not need to repeat the code for <strong>isValidCarPlate</strong> here. You may assume that the function is readily available to be called.\n",
    "<br><br>\n",
    "A sample output from the program is as shown below:\n",
    "![title](images/PractiseProblem-PartII.jpg)"
   ]
  },
  {
   "cell_type": "code",
   "execution_count": 6,
   "metadata": {},
   "outputs": [
    {
     "name": "stdout",
     "output_type": "stream",
     "text": [
      "You have entered an invalid car plate, please enter again.\n",
      "You have entered an invalid car plate, please enter again.\n",
      "You have entered a valid car plate: ZBW4782\n"
     ]
    }
   ],
   "source": [
    "# Write your codes for Part II here\n",
    "car_plate = input(\"Enter a valid car licence plate number: \")\n",
    "while isValidCarPlate(car_plate) == False:\n",
    "    print(\"You have entered an invalid car plate, please enter again.\")\n",
    "    car_plate = input(\"Enter a valid car licence plate number: \")\n",
    "print(\"You have entered a valid car plate: \" + car_plate)\n"
   ]
  },
  {
   "cell_type": "markdown",
   "metadata": {},
   "source": [
    "### Add your codes for any other exercises from this section onwards"
   ]
  },
  {
   "cell_type": "code",
   "execution_count": null,
   "metadata": {},
   "outputs": [],
   "source": []
  },
  {
   "cell_type": "markdown",
   "metadata": {},
   "source": [
    "***\n",
    "### Online Resources\n",
    "To learn more string methods, click on the links for below:\n",
    "\n",
    "Online reference for string methods: \n",
    "\n",
    "- [https://www.w3schools.com/python/python_ref_string.asp] )(https://www.w3schools.com/python/python_ref_string.asp)\n",
    "\n",
    "\n"
   ]
  },
  {
   "cell_type": "code",
   "execution_count": null,
   "metadata": {},
   "outputs": [],
   "source": []
  }
 ],
 "metadata": {
  "kernelspec": {
   "display_name": "Python 3.8.6 64-bit",
   "language": "python",
   "name": "python3"
  },
  "language_info": {
   "codemirror_mode": {
    "name": "ipython",
    "version": 3
   },
   "file_extension": ".py",
   "mimetype": "text/x-python",
   "name": "python",
   "nbconvert_exporter": "python",
   "pygments_lexer": "ipython3",
   "version": "3.8.6"
  },
  "vscode": {
   "interpreter": {
    "hash": "9650cb4e16cdd4a8e8e2d128bf38d875813998db22a3c986335f89e0cb4d7bb2"
   }
  }
 },
 "nbformat": 4,
 "nbformat_minor": 2
}
