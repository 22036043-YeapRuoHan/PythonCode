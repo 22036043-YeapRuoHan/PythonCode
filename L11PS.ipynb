{
 "cells": [
  {
   "cell_type": "code",
   "execution_count": 16,
   "metadata": {},
   "outputs": [],
   "source": [
    "student=[]\n",
    "\n",
    "def printMenu():\n",
    "    print(str(len(student)) + \" students on campus.\")\n",
    "    print(\"=\"*20)\n",
    "    print(\"1.Record a student entering campus\")\n",
    "    print(\"2.Record a student leaving campus\")\n",
    "    print(\"3.Print all students currently on campus\")\n",
    "    print(\"0.Exit\")\n",
    "    print(\"=\"*20)\n",
    "\n",
    "\n",
    "\n",
    "\n",
    "\n",
    "\n",
    "\n",
    "\n"
   ]
  },
  {
   "cell_type": "code",
   "execution_count": 17,
   "metadata": {},
   "outputs": [],
   "source": [
    "def displayAllStudents():\n",
    "    print(\"The following student IDs are on campus : \")\n",
    "    for i in range(len(student)):\n",
    "        print(student[i])"
   ]
  },
  {
   "cell_type": "code",
   "execution_count": 21,
   "metadata": {},
   "outputs": [],
   "source": [
    "def recordastudententry():\n",
    "    if student_ID in student:\n",
    "            print(\"Entry for \" + student_ID + \" already found \")\n",
    "    else:\n",
    "            print(\"Recorded campus ENTRY for \" + student_ID)\n",
    "            student.append(student_ID)"
   ]
  },
  {
   "cell_type": "code",
   "execution_count": 20,
   "metadata": {},
   "outputs": [],
   "source": [
    "def recordastudentexit():\n",
    "    if student_ID not in student:\n",
    "            print(student_ID + \" is NOT found.\")\n",
    "    else:\n",
    "        student.remove(student_ID)\n",
    "        print(\"Recorded campus EXIT for \" + student_ID)"
   ]
  },
  {
   "cell_type": "code",
   "execution_count": 31,
   "metadata": {},
   "outputs": [
    {
     "name": "stdout",
     "output_type": "stream",
     "text": [
      "0 students on campus.\n",
      "====================\n",
      "1.Record a student entering campus\n",
      "2.Record a student leaving campus\n",
      "3.Print all students currently on campus\n",
      "0.Exit\n",
      "====================\n"
     ]
    }
   ],
   "source": [
    "printMenu()\n",
    "menu_option=input(\"Enter menu option :-\")\n",
    "while menu_option != \"0\":\n",
    "    \n",
    "    \n",
    "    if menu_option == \"1\":\n",
    "        student_ID=input(\"Enter student ID entering campus:\")\n",
    "        recordastudententry()\n",
    "    if menu_option == \"3\":\n",
    "        displayAllStudents()\n",
    "    if menu_option == \"2\":\n",
    "        student_ID=input(\"Enter student ID leaving campus:\")\n",
    "        recordastudentexit()\n",
    "\n",
    "    printMenu()\n",
    "    menu_option=input(\"Enter menu option :-\")\n",
    "        \n",
    "        \n",
    "\n",
    "\n",
    "    \n",
    "    "
   ]
  }
 ],
 "metadata": {
  "kernelspec": {
   "display_name": "Python 3.8.6 64-bit",
   "language": "python",
   "name": "python3"
  },
  "language_info": {
   "codemirror_mode": {
    "name": "ipython",
    "version": 3
   },
   "file_extension": ".py",
   "mimetype": "text/x-python",
   "name": "python",
   "nbconvert_exporter": "python",
   "pygments_lexer": "ipython3",
   "version": "3.8.6"
  },
  "orig_nbformat": 4,
  "vscode": {
   "interpreter": {
    "hash": "9650cb4e16cdd4a8e8e2d128bf38d875813998db22a3c986335f89e0cb4d7bb2"
   }
  }
 },
 "nbformat": 4,
 "nbformat_minor": 2
}
