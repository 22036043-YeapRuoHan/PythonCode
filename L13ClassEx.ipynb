{
 "cells": [
  {
   "cell_type": "code",
   "execution_count": 17,
   "metadata": {},
   "outputs": [
    {
     "name": "stdout",
     "output_type": "stream",
     "text": [
      "Invalid product code format\n"
     ]
    }
   ],
   "source": [
    "#Q2\n",
    "code = input(\"Enter the product code\")\n",
    "if len(code)==6 and code.startswith(\"P\")and code[1:5].isdigit()and code[5].isalpha:\n",
    "    print(\"Valid product code format\")\n",
    "    \n",
    "else:\n",
    "    print(\"Invalid product code format\")\n",
    "\n"
   ]
  },
  {
   "cell_type": "code",
   "execution_count": 24,
   "metadata": {},
   "outputs": [
    {
     "name": "stdout",
     "output_type": "stream",
     "text": [
      "Utilisation_rate is 84.53%\n"
     ]
    }
   ],
   "source": [
    "#Q5\n",
    "i=1\n",
    "total=0\n",
    "total_capacity=150*5\n",
    "while i < 6:\n",
    "    seat_occupied=float(input(\"Enter number of seats occupied for show \"+str(i)+\":\"))\n",
    "    total=seat_occupied + total\n",
    "    Utilisation_rate=total/total_capacity * 100\n",
    "    Utilisation_rate= round(Utilisation_rate,2)\n",
    "    i=i+1\n",
    "print(\"Utilisation_rate is \" + str(Utilisation_rate) + \"%\")"
   ]
  },
  {
   "cell_type": "code",
   "execution_count": 26,
   "metadata": {},
   "outputs": [
    {
     "name": "stdout",
     "output_type": "stream",
     "text": [
      "Utilisation_rate is 2.0%\n"
     ]
    }
   ],
   "source": [
    "#Q6\n",
    "total=0\n",
    "for i in range(1,6):\n",
    "    seat_occupied=float(input(\"Enter number of seats occupied for show \"+str(i)+\":\"))\n",
    "    total=seat_occupied + total\n",
    "    Utilisation_rate=total/total_capacity * 100\n",
    "    Utilisation_rate= round(Utilisation_rate,2)\n",
    "    i=i+1\n",
    "print(\"Utilisation_rate is \" + str(Utilisation_rate) + \"%\")"
   ]
  },
  {
   "cell_type": "code",
   "execution_count": 27,
   "metadata": {},
   "outputs": [
    {
     "name": "stdout",
     "output_type": "stream",
     "text": [
      "1. Add a vote (A/B/C)\n",
      "2. Display current vote status\n",
      "9. Exit\n"
     ]
    }
   ],
   "source": [
    "#Q9\n",
    "def printMenu():\n",
    "    print(\"1. Add a vote (A/B/C)\")\n",
    "    print(\"2. Display current vote status\")\n",
    "    print(\"9. Exit\")\n",
    "\n",
    "printMenu()"
   ]
  },
  {
   "cell_type": "code",
   "execution_count": 37,
   "metadata": {},
   "outputs": [
    {
     "name": "stdout",
     "output_type": "stream",
     "text": [
      "1. Add a vote (A/B/C)\n",
      "2. Display current vote status\n",
      "9. Exit\n",
      "1. Add a vote (A/B/C)\n",
      "2. Display current vote status\n",
      "9. Exit\n",
      "1. Add a vote (A/B/C)\n",
      "2. Display current vote status\n",
      "9. Exit\n",
      "1. Add a vote (A/B/C)\n",
      "2. Display current vote status\n",
      "9. Exit\n",
      "Current status of count is [2, 0, 1]\n",
      "Design A received 2 votes.\n",
      "Design B received 0 votes.\n",
      "Design C received 1 votes.\n",
      "1. Add a vote (A/B/C)\n",
      "2. Display current vote status\n",
      "9. Exit\n",
      "Highest vote count is 2\n"
     ]
    }
   ],
   "source": [
    "#Q10,11\n",
    "\n",
    "\n",
    "\n",
    "count=[0,0,0]\n",
    "printMenu()\n",
    "\n",
    "choice=input(\"Enter your choice : \")\n",
    "while choice != \"9\":\n",
    "    if choice==\"1\":\n",
    "        vote=input(\"Enter your vote (A/B/C) : \")\n",
    "        if vote==\"A\":\n",
    "            count[0]=count[0]+1\n",
    "        elif vote==\"B\":\n",
    "            count[1]=count[1] +1\n",
    "        elif vote==\"C\":\n",
    "            count[2]=count[2]+ 1\n",
    "    elif choice==\"2\":\n",
    "        print(\"Current status of count is \" + str(count))\n",
    "        print(\"Design A received \" + str(count[0]) + \" votes.\")\n",
    "        print(\"Design B received \" + str(count[1]) + \" votes.\")\n",
    "        print(\"Design C received \" + str(count[2]) + \" votes.\")\n",
    "\n",
    "    else:\n",
    "        print(\"Invalid option\")\n",
    "\n",
    "    \n",
    "    printMenu()\n",
    "    choice=input(\"Enter your choice : \") \n",
    "print(\"Highest vote count is \" + str(max(count)))\n",
    "    "
   ]
  },
  {
   "cell_type": "code",
   "execution_count": 3,
   "metadata": {},
   "outputs": [
    {
     "name": "stdout",
     "output_type": "stream",
     "text": [
      "{'France': 'Bonjour', 'Japan': 'Ohaya', 'Italy': 'Ciao', 'Thailand': 'Sawasdee', 'Korea': 'Ahn-Young-Ha-Se-Yo'}\n",
      "['France', 'Japan', 'Italy', 'Thailand', 'Korea']\n",
      "Ohaya\n",
      "The country with longest word of saying 'Hello' is Korea\n"
     ]
    }
   ],
   "source": [
    "Hello_Dict = {\"France\": \"Bonjour\", \"Japan\": \"Konnichiwa\", \"Italy\": \"Ciao\", \"Spain\": \"Hola\", \"Thailand\": \"Sawasdee\"}\n",
    "Hello_Dict[\"Korea\"]=\"Ahn-Young-Ha-Se-Yo\"\n",
    "Hello_Dict[\"Japan\"]=\"Ohaya\"\n",
    "del Hello_Dict[\"Spain\"]\n",
    "countries=list(Hello_Dict.keys())\n",
    "print(Hello_Dict)\n",
    "print(countries)\n",
    "\n",
    "country_name=input(\"Enter a country name\")\n",
    "if country_name in countries:\n",
    "    print(str(Hello_Dict[country_name]))\n",
    "else:\n",
    "    print(\"Not found\")\n",
    "\n",
    "longest=countries[0]\n",
    "for key in countries:\n",
    "    if len(Hello_Dict[key])> len(longest):\n",
    "        longest=key\n",
    "print(\"The country with longest word of saying 'Hello' is \" + longest )"
   ]
  },
  {
   "cell_type": "code",
   "execution_count": 5,
   "metadata": {},
   "outputs": [
    {
     "name": "stdout",
     "output_type": "stream",
     "text": [
      "Name and scores entered : {'Adam': '59', 'Ben': '28', 'Carol': '59', 'David': '40', 'Eve': '19'}\n",
      "The highest score is 59\n",
      "Students with highest scores: ['Adam', 'Carol']\n"
     ]
    }
   ],
   "source": [
    "#PQ\n",
    "#Part A\n",
    "test_scores={}\n",
    "for i in range(1,6):\n",
    "    name=input(\"Enter the name of student \" +str(i)+\" : \")\n",
    "    score=input(\"Enter the test score of student \"+ str(i)+ \" : \")\n",
    "    test_scores[name]=score\n",
    "print(\"Name and scores entered : \" + str(test_scores))\n",
    "#Part B\n",
    "test_scores_List=list(test_scores.values())\n",
    "highest=max(test_scores_List)\n",
    "print(\"The highest score is \" + str(highest)) \n",
    "#Part C\n",
    " \n",
    "highest_score=[]\n",
    "for name in test_scores:\n",
    "    if test_scores[name]== highest:\n",
    "        highest_score.append(name)\n",
    "print(\"Students with highest scores: \" + str(highest_score))\n",
    "\n"
   ]
  }
 ],
 "metadata": {
  "kernelspec": {
   "display_name": "Python 3.8.6 64-bit",
   "language": "python",
   "name": "python3"
  },
  "language_info": {
   "codemirror_mode": {
    "name": "ipython",
    "version": 3
   },
   "file_extension": ".py",
   "mimetype": "text/x-python",
   "name": "python",
   "nbconvert_exporter": "python",
   "pygments_lexer": "ipython3",
   "version": "3.8.6"
  },
  "orig_nbformat": 4,
  "vscode": {
   "interpreter": {
    "hash": "9650cb4e16cdd4a8e8e2d128bf38d875813998db22a3c986335f89e0cb4d7bb2"
   }
  }
 },
 "nbformat": 4,
 "nbformat_minor": 2
}
