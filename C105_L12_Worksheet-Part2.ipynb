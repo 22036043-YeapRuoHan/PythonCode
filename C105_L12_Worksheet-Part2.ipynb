{
 "cells": [
  {
   "cell_type": "code",
   "execution_count": 3,
   "metadata": {},
   "outputs": [
    {
     "name": "stdout",
     "output_type": "stream",
     "text": [
      "['apple', 'orange', 'pear']\n",
      "[0.65, 0.5, 0.8]\n"
     ]
    }
   ],
   "source": [
    "myDictionary = { \"apple\":0.65, \"orange\":0.50, \"pear\":0.80 }\n",
    "allKeys = list(myDictionary.keys())\n",
    "print(allKeys)\n",
    "allValues=list(myDictionary.values())\n",
    "print(allValues)"
   ]
  },
  {
   "cell_type": "markdown",
   "metadata": {},
   "source": [
    "## VIII. Dictionary and List\n",
    "\n",
    "### 1. Extracting all the keys into a List\n",
    "We can extract all the <b>keys</b> into a List by using the <b>keys()</b> method with the <b>list</b> function.\n",
    "\n",
    "An example:\n",
    "```python\n",
    "myDictionary = { \"apple\":0.65, \"orange\":0.50, \"pear\":0.80 }\n",
    "allKeys = list(myDictionary.keys())\n",
    "```\n",
    "\n",
    "### 2. Extracting all the values into a List\n",
    "Similar, we can extract all the <b>values</b> into a List by using the <b>values()</b> method with the <b>list</b> function.\n",
    "\n",
    "An example:\n",
    "```python\n",
    "myDictionary = { \"apple\":0.65, \"orange\":0.50, \"pear\":0.80 }\n",
    "allValues = list(myDictionary.values())\n",
    "```\n",
    "\n",
    "## IX. Iterations and Dictionary\n",
    "We can traverse and iterate over a Dictionary using the <b>for</b> loop.\n",
    "\n",
    "For example, assume members contain the name (key) and age (value).\n",
    "To calculate the average age:\n",
    "\n",
    "```python\n",
    "total = 0\n",
    "members = { \"mary\":18, \"alan\":20, \"peter\":21 }\n",
    "\n",
    "for key in members:  # Iterate the key:value pairs using a for loop\n",
    "    age = members[key] # Assign the value for each key in the variable age\n",
    "    total = total + age\n",
    "\n",
    "average = total / len(members)\n",
    "average = round(average, 2)\n",
    "print(\"The average age is \" + str(average) )\n",
    "```\n",
    "### <em><span style=\"color:Blue;\">Exercise 8a - Display all the keys in a Dictionary </span></em>\n",
    "Write a program to display all the <b>keys</b> in the Dictionary, <b>one key per line</b>.\n"
   ]
  },
  {
   "cell_type": "code",
   "execution_count": 4,
   "metadata": {},
   "outputs": [
    {
     "name": "stdout",
     "output_type": "stream",
     "text": [
      "apple\n",
      "orange\n",
      "pear\n"
     ]
    }
   ],
   "source": [
    "myDictionary = { \"apple\":0.65, \"orange\":0.50, \"pear\":0.80 }\n",
    "#  ---------\n",
    "#  Exercise 8a - Write your answers here.\n",
    "#  ---------\n",
    "for key in myDictionary:\n",
    "    print(key)"
   ]
  },
  {
   "cell_type": "markdown",
   "metadata": {},
   "source": [
    "### <em><span style=\"color:Blue;\">Exercise 8b - Display all the values in a Dictionary </span></em>\n",
    "Write a program to display all the <b>values</b> in the Dictionary, <b>one value per line</b>."
   ]
  },
  {
   "cell_type": "code",
   "execution_count": 6,
   "metadata": {},
   "outputs": [
    {
     "name": "stdout",
     "output_type": "stream",
     "text": [
      "0.65\n",
      "0.5\n",
      "0.8\n"
     ]
    }
   ],
   "source": [
    "myDictionary = { \"apple\":0.65, \"orange\":0.50, \"pear\":0.80 }\n",
    "#  ---------\n",
    "#  Exercise 8b - Write your answers here.\n",
    "#  ---------\n",
    "for key in myDictionary:\n",
    "    print(myDictionary[key])"
   ]
  },
  {
   "cell_type": "markdown",
   "metadata": {},
   "source": [
    "### <em><span style=\"color:Blue;\">Exercise 8c - Display all the total of all the values in a Dictionary </span></em>\n",
    "Write a program to calculate and display the total of all the <b>values</b> in the Dictionary."
   ]
  },
  {
   "cell_type": "code",
   "execution_count": 7,
   "metadata": {},
   "outputs": [
    {
     "name": "stdout",
     "output_type": "stream",
     "text": [
      "The total value is 1.95\n"
     ]
    }
   ],
   "source": [
    "myDictionary = { \"apple\":0.65, \"orange\":0.50, \"pear\":0.80 }\n",
    "#  ---------\n",
    "#  Exercise 8c - Write your answers here.\n",
    "#  ---------\n",
    "total=0\n",
    "for key in myDictionary:\n",
    "    total=total + myDictionary[key]\n",
    "print(\"The total value is \" + str(total))"
   ]
  },
  {
   "cell_type": "markdown",
   "metadata": {},
   "source": [
    "### <em><span style=\"color:Blue;\">Exercise 8d - Update all the values in a Dictionary </span></em>\n",
    "Write a program to update all the values in the Dictionary by 10% (rounded to 2 decimal places) using a Loop.<br>\n",
    "For example, the new value for apple is <b>0.72</b>\n",
    "\n",
    "<br>\n",
    "Display the key:value pairs in the Dictionary after the update is completed.\n"
   ]
  },
  {
   "cell_type": "code",
   "execution_count": 10,
   "metadata": {},
   "outputs": [
    {
     "name": "stdout",
     "output_type": "stream",
     "text": [
      "{'apple': 0.72, 'orange': 0.55, 'pear': 0.88}\n"
     ]
    }
   ],
   "source": [
    "myDictionary = { \"apple\":0.65, \"orange\":0.50, \"pear\":0.80 }\n",
    "#  ---------\n",
    "#  Exercise 8d - Write your answers here.\n",
    "#  ---------\n",
    "for key in myDictionary:\n",
    "    myDictionary[key]=round(myDictionary[key]*1.1,2)\n",
    "\n",
    "print(myDictionary)"
   ]
  },
  {
   "cell_type": "markdown",
   "metadata": {},
   "source": [
    "# Lecturer's Demonstration \n",
    "\n",
    "The following Python Dictionary that shows the different ways of saying \"Hello\" in different countries.\n",
    "```python\n",
    "Hello_Dict = {\"France\": \"Bonjour\", \"Japan\": \"Konnichiwa\", \"Italy\": \"Ciao\", \"Spain\": \"Hola\", \"Thailand\": \"Sawasdee\"}\n",
    "```\n",
    "\n",
    "## Part I\n",
    "Write a program to get a user to enter a country name. The program displays that country’s way of saying \n",
    "hello if it is found in the Python Dictionary, <b>Hello_Dict</b>. \n",
    "<br>Otherwise, the program displays a \"Not found\"\n",
    "message\n",
    "\n",
    "## Part II\n",
    "Write a program using a <b>for</b> loop to identify and display the country with the <b>longest word</b> of saying \"Hello\".\n"
   ]
  },
  {
   "cell_type": "code",
   "execution_count": 18,
   "metadata": {},
   "outputs": [
    {
     "name": "stdout",
     "output_type": "stream",
     "text": [
      "Konnichiwa\n"
     ]
    }
   ],
   "source": [
    "## Lectuer's Demonstration\n",
    "#Part I\n",
    "Hello_Dict = {\"France\": \"Bonjour\", \"Japan\": \"Konnichiwa\", \"Italy\": \"Ciao\", \"Spain\": \"Hola\", \"Thailand\": \"Sawasdee\"}\n",
    "country= input(\"Enter country name: \")\n",
    "if country in Hello_Dict:\n",
    "    print(Hello_Dict[country])\n",
    "else:\n",
    "    print(\"Not found.\")\n",
    "\n"
   ]
  },
  {
   "cell_type": "code",
   "execution_count": 17,
   "metadata": {},
   "outputs": [
    {
     "name": "stdout",
     "output_type": "stream",
     "text": [
      "Country with longest word for 'Hello' is Japan\n"
     ]
    }
   ],
   "source": [
    "## Lectuer's Demonstration\n",
    "#Part II\n",
    "Hello_Dict = {\"France\": \"Bonjour\", \"Japan\": \"Konnichiwa\", \"Italy\": \"Ciao\", \"Spain\": \"Hola\", \"Thailand\": \"Sawasdee\"}\n",
    "maxlen=0\n",
    "country= \"\"\n",
    "for key in Hello_Dict:\n",
    "    if len(Hello_Dict[key]) > maxlen:\n",
    "        maxlen=len(Hello_Dict[key])\n",
    "        country=key\n",
    "print(\"Country with longest word for 'Hello' is \" + country)\n",
    "\n",
    "\n"
   ]
  },
  {
   "cell_type": "markdown",
   "metadata": {},
   "source": [
    "# Your Practice Question -  Enhancements to Lesson 11 Problem\n",
    "Recall the problem in Lesson 11 where you have written a program to track students' entries and exits to the campus.\n",
    "<br>\n",
    "Enhance your program to capture the student ID and name when a student enters or exits the campus.\n",
    "<br>\n",
    "A copy of Lesson 11 solution is provided in the Lesson package for your reference.\n",
    "\n",
    "### Part I\n",
    "Use Python Dictionary to capture the <b>student ID as the key</b> and <b>name as the value</b>.\n",
    "<br>\n",
    "Hint - What should be the datatypes for student ID and name.\n",
    "\n",
    "### Part II\n",
    "Add Option 4 to allow the user to key in a student ID.  The program displays the student's name if the record is found.<br>\n",
    "Otherwise, the program displays a \"Not found\" message.\n",
    "<br><br>\n",
    "\n",
    "### Enhancement\n",
    "Write a function, <b>isValidStudentID</b>, that accepts a parameter, studentID.\n",
    "The function validates the student ID must be of \n",
    "<br>i. 8 characters\n",
    "<br>ii. Starting with the values 2000 to 2900\n",
    "<br>iii. Followed by 4 digits.\n",
    "<br><br>\n",
    "If studentID meets the requirements, the function returns a Boolean True.  Otherwise, it returns a Boolean False.\n",
    "<br>\n",
    "Enhance your program to use isValidStudentID to validate the studentID.  If a studentID is invalid, the program display \"Invalid ID\" message.\n",
    "<hr>\n",
    "<br>\n",
    "Study the <b>C105 Lesson 12 Sample Output.jpg</b> provided in the images folder to identify the changes required."
   ]
  },
  {
   "cell_type": "code",
   "execution_count": 5,
   "metadata": {},
   "outputs": [
    {
     "name": "stdout",
     "output_type": "stream",
     "text": [
      "====================\n",
      "1. Record a student entering campus\n",
      "2. Record a student leaving campus\n",
      "3. Print all students currently on campus\n",
      "4.Search by ID\n",
      "0. Exit\n",
      "====================\n",
      "0 students on campus.\n",
      "20021250 is NOT found.\n",
      "\n",
      "====================\n",
      "1. Record a student entering campus\n",
      "2. Record a student leaving campus\n",
      "3. Print all students currently on campus\n",
      "4.Search by ID\n",
      "0. Exit\n",
      "====================\n",
      "0 students on campus.\n"
     ]
    }
   ],
   "source": [
    "# Write your codes here\n",
    "\n",
    "def printMenu():\n",
    "    print(\"====================\")\n",
    "    print(\"1. Record a student entering campus\")\n",
    "    print(\"2. Record a student leaving campus\")\n",
    "    print(\"3. Print all students currently on campus\")\n",
    "    print(\"4.Search by ID\")\n",
    "    print(\"0. Exit\")\n",
    "    print(\"====================\")\n",
    "\n",
    "def displayAllStudents(student_Dict):\n",
    "    if len(student_Dict) > 0:\n",
    "        print(\"The following student IDs are on campus:\")\n",
    "        for i in student_Dict:\n",
    "            print(str(i)+ \" : \" + student_Dict[i])\n",
    "    else:\n",
    "        print(\"There is no student on campus.\")\n",
    "        \n",
    "def ValidStudentID(studentID):\n",
    "    if len(studentID)==8:\n",
    "        first4=studentID[0:4]\n",
    "        if int(first4)>=2000 and int(first4)<=2900:\n",
    "            last4=studentID[4:8]\n",
    "            if last4.isdigit():\n",
    "                return True\n",
    "            else:\n",
    "                return False\n",
    "        else:\n",
    "            return False\n",
    "    else:\n",
    "        return False\n",
    "student_Dict={}\n",
    "printMenu()\n",
    "print(str(len(student_Dict)) + \" students on campus.\")\n",
    "option = int(input(\"Enter menu option:- \"))\n",
    "\n",
    "while option != 0:\n",
    "\n",
    "    if option == 1:\n",
    "        studentID = input(\"Enter student ID entering campus: \")\n",
    "        if ValidStudentID(studentID):\n",
    "            if studentID in student_Dict:\n",
    "                print(\"Entry for \" + str(studentID) + \" already found\") \n",
    "            else:\n",
    "                name=input(\"Enter name: \")\n",
    "                student_Dict[studentID]=name\n",
    "                print(\"Recorded campus ENTRY for \" + str(studentID))\n",
    "        else:\n",
    "            print(\"Invalid student ID\")\n",
    "            \n",
    "\n",
    "                \n",
    "    elif option == 2:\n",
    "        studentID = input(\"Enter student ID leaving campus: \")\n",
    "        if studentID in student_Dict:\n",
    "            del student_Dict[studentID]\n",
    "            print(\"Recorded campus EXIT for \" + str(studentID))       \n",
    "        else:\n",
    "            print(str(studentID) + \" is NOT found.\")\n",
    "\n",
    "    elif option == 3:\n",
    "        displayAllStudents(student_Dict)\n",
    "\n",
    "\n",
    "    elif option == 4:\n",
    "        search=input(\"Enter student ID to search : \")\n",
    "        print(\"The name for student ID \" + search + \" is \" + student_Dict[search])        \n",
    "    \n",
    "    else:\n",
    "        print(\"Invalid option\")\n",
    "\n",
    "    print()\n",
    "    printMenu()\n",
    "    print(str(len(student_Dict)) + \" students on campus.\")\n",
    "\n",
    "    option = int(input(\"Enter menu option:- \"))\n",
    "\n",
    "\n",
    "\n",
    "\n",
    "\n"
   ]
  },
  {
   "cell_type": "markdown",
   "metadata": {},
   "source": [
    "\n",
    "\n",
    "### Add your codes for any other exercises from this section onwards"
   ]
  },
  {
   "cell_type": "markdown",
   "metadata": {},
   "source": [
    "##  Resources\n",
    "1. Refer to the PDF book “Python for Informatics” found in LEO 2.0 Supplementary Learning Path. Go through “Chapter 9 Dictionaries” from page 119 to 129 of the pdf file. (Note: The content corresponds to what is covered in the above video Python for Informatics – Chapter 9 Dictionaries”)\n",
    "\n",
    "<br><br>\n",
    "\n",
    "2. Videos on Dictionary : \n",
    "<br>\n",
    "    <a href=\"https://www.youtube.com/watch?v=tTKogB6y9iI\">a. Python Tutorial: Basics of the Python Dictionary - Python Basics #13</a>\n",
    "<br><br>\n",
    "    <a href=\"https://www.youtube.com/watch?v=FS-WZWUlPlM&index=25&list=PLlRFEj9H3Oj4JXIwMwN1_ss1Tk8wZShEJ\">b. Python for Informatics – Chapter 9 Dictionaries</a>\n",
    "\n"
   ]
  }
 ],
 "metadata": {
  "kernelspec": {
   "display_name": "Python 3.8.6 64-bit",
   "language": "python",
   "name": "python3"
  },
  "language_info": {
   "codemirror_mode": {
    "name": "ipython",
    "version": 3
   },
   "file_extension": ".py",
   "mimetype": "text/x-python",
   "name": "python",
   "nbconvert_exporter": "python",
   "pygments_lexer": "ipython3",
   "version": "3.8.6"
  },
  "metadata": {
   "interpreter": {
    "hash": "7a542ca580817fc4dd55327026e074e2fa0cd470fc5dee9350c2d8b13822db8d"
   }
  },
  "vscode": {
   "interpreter": {
    "hash": "9650cb4e16cdd4a8e8e2d128bf38d875813998db22a3c986335f89e0cb4d7bb2"
   }
  }
 },
 "nbformat": 4,
 "nbformat_minor": 2
}
