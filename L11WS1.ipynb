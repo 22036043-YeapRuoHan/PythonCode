{
 "cells": [
  {
   "cell_type": "code",
   "execution_count": 9,
   "metadata": {},
   "outputs": [
    {
     "name": "stdout",
     "output_type": "stream",
     "text": [
      "['Bread', 'Eggs', 'Milk', 'Butter']\n",
      "Bread\n",
      "Eggs\n",
      "Milk\n",
      "Butter\n"
     ]
    }
   ],
   "source": [
    "basket=[]\n",
    "basket.append(\"Bread\")\n",
    "basket.append(\"Eggs\")\n",
    "basket.append(\"Milk\")\n",
    "basket.append(\"Butter\")\n",
    "\n",
    "print(basket)\n",
    "print(basket[0])\n",
    "print(basket[1])\n",
    "print(basket[2])\n",
    "print(basket[3])"
   ]
  },
  {
   "cell_type": "code",
   "execution_count": 7,
   "metadata": {},
   "outputs": [
    {
     "name": "stdout",
     "output_type": "stream",
     "text": [
      "Bread\n",
      "Eggs\n",
      "Butter\n",
      "Orange\n"
     ]
    }
   ],
   "source": [
    "#loop to access the list by value(content)\n",
    "for i in basket:\n",
    "    print(i)"
   ]
  },
  {
   "cell_type": "code",
   "execution_count": 8,
   "metadata": {},
   "outputs": [
    {
     "name": "stdout",
     "output_type": "stream",
     "text": [
      "Bread\n",
      "Eggs\n",
      "Butter\n",
      "Orange\n"
     ]
    }
   ],
   "source": [
    "#loop to access the list by index value\n",
    "for i in range(len(basket)):\n",
    "    print(basket[i])"
   ]
  },
  {
   "cell_type": "code",
   "execution_count": 10,
   "metadata": {},
   "outputs": [
    {
     "name": "stdout",
     "output_type": "stream",
     "text": [
      "i is 1\n",
      "i is 2\n",
      "i is 3\n",
      "i is 5\n",
      "i is 8\n",
      "i is 13\n"
     ]
    }
   ],
   "source": [
    "myList = [1,2,3,5,8,13]\n",
    "for i in myList:\n",
    "    print(\"i is \" + str(i))"
   ]
  },
  {
   "cell_type": "code",
   "execution_count": 11,
   "metadata": {},
   "outputs": [
    {
     "name": "stdout",
     "output_type": "stream",
     "text": [
      "i is 0\n",
      "i is 1\n",
      "i is 2\n",
      "i is 3\n",
      "i is 4\n",
      "i is 5\n"
     ]
    }
   ],
   "source": [
    "for i in range(len(myList)):\n",
    "    print(\"i is \" + str(i))"
   ]
  },
  {
   "cell_type": "code",
   "execution_count": 12,
   "metadata": {},
   "outputs": [
    {
     "name": "stdout",
     "output_type": "stream",
     "text": [
      " i is 1\n",
      " i is 2\n",
      " i is 3\n",
      " i is 5\n",
      " i is 8\n",
      " i is 13\n"
     ]
    }
   ],
   "source": [
    "myList = [1,2,3,5,8,13]\n",
    "for i in range(len(myList)):\n",
    "    print(\" i is \"+str(myList[i]))"
   ]
  },
  {
   "cell_type": "code",
   "execution_count": 14,
   "metadata": {},
   "outputs": [
    {
     "name": "stdout",
     "output_type": "stream",
     "text": [
      "1 - Bread\n",
      "2 - Eggs\n",
      "3 - Milk\n",
      "4 - Butter\n"
     ]
    }
   ],
   "source": [
    "for i in range(len(basket)):\n",
    "    print(str(i+1)+ \" - \" + basket[i])"
   ]
  },
  {
   "cell_type": "code",
   "execution_count": 18,
   "metadata": {},
   "outputs": [
    {
     "name": "stdout",
     "output_type": "stream",
     "text": [
      "89\n"
     ]
    }
   ],
   "source": [
    "numbers = [23,67,52,18,89,57,33,71,62]\n",
    "maxnum = numbers[0]\n",
    "for i in numbers:\n",
    "    if i > maxnum:\n",
    "        maxnum=i\n",
    "print(maxnum)\n"
   ]
  },
  {
   "cell_type": "code",
   "execution_count": 21,
   "metadata": {},
   "outputs": [
    {
     "name": "stdout",
     "output_type": "stream",
     "text": [
      "True\n"
     ]
    }
   ],
   "source": [
    "print(\"a\" in \"Good day\")"
   ]
  },
  {
   "cell_type": "code",
   "execution_count": 23,
   "metadata": {},
   "outputs": [
    {
     "name": "stdout",
     "output_type": "stream",
     "text": [
      "True\n"
     ]
    }
   ],
   "source": [
    "print(\"Eggs\" in basket)\n"
   ]
  },
  {
   "cell_type": "code",
   "execution_count": 24,
   "metadata": {},
   "outputs": [
    {
     "name": "stdout",
     "output_type": "stream",
     "text": [
      "Need to buy cheese\n"
     ]
    }
   ],
   "source": [
    "if \"Cheese\" not in basket:\n",
    "    print(\"Need to buy cheese\")"
   ]
  },
  {
   "cell_type": "code",
   "execution_count": 27,
   "metadata": {},
   "outputs": [
    {
     "name": "stdout",
     "output_type": "stream",
     "text": [
      "12\n"
     ]
    }
   ],
   "source": [
    "def addFirstTwo(numList):\n",
    "    result = numList[0] + numList[1]\n",
    "    return result\n",
    "print(addFirstTwo([5,7,10,1]))"
   ]
  },
  {
   "cell_type": "code",
   "execution_count": 42,
   "metadata": {},
   "outputs": [
    {
     "ename": "TypeError",
     "evalue": "can only concatenate str (not \"list\") to str",
     "output_type": "error",
     "traceback": [
      "\u001b[1;31m---------------------------------------------------------------------------\u001b[0m",
      "\u001b[1;31mTypeError\u001b[0m                                 Traceback (most recent call last)",
      "\u001b[1;32mc:\\Users\\22036043\\Desktop\\C105\\C105-L11-Student\\L11WS1.ipynb Cell 13\u001b[0m in \u001b[0;36m<cell line: 9>\u001b[1;34m()\u001b[0m\n\u001b[0;32m      <a href='vscode-notebook-cell:/c%3A/Users/22036043/Desktop/C105/C105-L11-Student/L11WS1.ipynb#ch0000013?line=5'>6</a>\u001b[0m     result \u001b[39m=\u001b[39mresult \u001b[39m+\u001b[39m stringlist[\u001b[39m2\u001b[39m]\n\u001b[0;32m      <a href='vscode-notebook-cell:/c%3A/Users/22036043/Desktop/C105/C105-L11-Student/L11WS1.ipynb#ch0000013?line=6'>7</a>\u001b[0m     \u001b[39mreturn\u001b[39;00m result\n\u001b[1;32m----> <a href='vscode-notebook-cell:/c%3A/Users/22036043/Desktop/C105/C105-L11-Student/L11WS1.ipynb#ch0000013?line=8'>9</a>\u001b[0m string_first_three([\u001b[39m\"\u001b[39;49m\u001b[39mhello\u001b[39;49m\u001b[39m\"\u001b[39;49m, \u001b[39m\"\u001b[39;49m\u001b[39mworld\u001b[39;49m\u001b[39m\"\u001b[39;49m, \u001b[39m\"\u001b[39;49m\u001b[39mgood\u001b[39;49m\u001b[39m\"\u001b[39;49m])\n",
      "\u001b[1;32mc:\\Users\\22036043\\Desktop\\C105\\C105-L11-Student\\L11WS1.ipynb Cell 13\u001b[0m in \u001b[0;36mstring_first_three\u001b[1;34m(stringlist)\u001b[0m\n\u001b[0;32m      <a href='vscode-notebook-cell:/c%3A/Users/22036043/Desktop/C105/C105-L11-Student/L11WS1.ipynb#ch0000013?line=2'>3</a>\u001b[0m result \u001b[39m=\u001b[39m \u001b[39m\"\u001b[39m\u001b[39m \u001b[39m\u001b[39m\"\u001b[39m\n\u001b[0;32m      <a href='vscode-notebook-cell:/c%3A/Users/22036043/Desktop/C105/C105-L11-Student/L11WS1.ipynb#ch0000013?line=3'>4</a>\u001b[0m result \u001b[39m=\u001b[39mresult \u001b[39m+\u001b[39m stringlist[\u001b[39m0\u001b[39m][\u001b[39m0\u001b[39m]\u001b[39m.\u001b[39mupper() \n\u001b[1;32m----> <a href='vscode-notebook-cell:/c%3A/Users/22036043/Desktop/C105/C105-L11-Student/L11WS1.ipynb#ch0000013?line=4'>5</a>\u001b[0m result \u001b[39m=\u001b[39mresult \u001b[39m+\u001b[39;49m stringlist[\u001b[39m1\u001b[39;49m:\u001b[39mlen\u001b[39;49m(stringlist[\u001b[39m0\u001b[39;49m])] \u001b[39m+\u001b[39m \u001b[39m\"\u001b[39m\u001b[39m,\u001b[39m\u001b[39m\"\u001b[39m\n\u001b[0;32m      <a href='vscode-notebook-cell:/c%3A/Users/22036043/Desktop/C105/C105-L11-Student/L11WS1.ipynb#ch0000013?line=5'>6</a>\u001b[0m result \u001b[39m=\u001b[39mresult \u001b[39m+\u001b[39m stringlist[\u001b[39m2\u001b[39m]\n\u001b[0;32m      <a href='vscode-notebook-cell:/c%3A/Users/22036043/Desktop/C105/C105-L11-Student/L11WS1.ipynb#ch0000013?line=6'>7</a>\u001b[0m \u001b[39mreturn\u001b[39;00m result\n",
      "\u001b[1;31mTypeError\u001b[0m: can only concatenate str (not \"list\") to str"
     ]
    }
   ],
   "source": [
    "def string_first_three(stringlist):\n",
    "   \n",
    "    result = \" \"\n",
    "    result =result + stringlist[0][0].upper() \n",
    "    result =result + stringlist[1:len(stringlist[0])] + \",\"\n",
    "    result =result + stringlist[2]\n",
    "    return result\n",
    "\n",
    "string_first_three([\"hello\", \"world\", \"good\"])\n",
    "\n",
    "    "
   ]
  },
  {
   "cell_type": "code",
   "execution_count": 39,
   "metadata": {},
   "outputs": [
    {
     "name": "stdout",
     "output_type": "stream",
     "text": [
      "[4, 8, 12]\n"
     ]
    }
   ],
   "source": [
    "def add_lists(list1,list2):\n",
    "    result =[]\n",
    "    result.append(list1[0]+list2[0])\n",
    "    result.append(list1[1]+list2[1])\n",
    "    result.append(list1[2]+list2[2])\n",
    "    return result\n",
    "\n",
    "print(add_lists([1,2,3],[3,6,9]))"
   ]
  },
  {
   "cell_type": "code",
   "execution_count": 41,
   "metadata": {},
   "outputs": [
    {
     "name": "stdout",
     "output_type": "stream",
     "text": [
      "[40, 42, 44, 4, 0, 14]\n"
     ]
    }
   ],
   "source": [
    "def multiply_number(list1,num):\n",
    "    result=[]\n",
    "    for i in list1:\n",
    "        result.append(i * num)\n",
    "    return result\n",
    "print(multiply_number([20,21,22,2,0,7],2))"
   ]
  }
 ],
 "metadata": {
  "kernelspec": {
   "display_name": "Python 3.8.6 64-bit",
   "language": "python",
   "name": "python3"
  },
  "language_info": {
   "codemirror_mode": {
    "name": "ipython",
    "version": 3
   },
   "file_extension": ".py",
   "mimetype": "text/x-python",
   "name": "python",
   "nbconvert_exporter": "python",
   "pygments_lexer": "ipython3",
   "version": "3.8.6"
  },
  "orig_nbformat": 4,
  "vscode": {
   "interpreter": {
    "hash": "9650cb4e16cdd4a8e8e2d128bf38d875813998db22a3c986335f89e0cb4d7bb2"
   }
  }
 },
 "nbformat": 4,
 "nbformat_minor": 2
}
