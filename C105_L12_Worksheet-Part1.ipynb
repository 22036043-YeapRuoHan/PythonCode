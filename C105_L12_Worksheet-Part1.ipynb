{
 "cells": [
  {
   "cell_type": "markdown",
   "metadata": {},
   "source": [
    "# C105 Introduction to Programming\n",
    "## Lesson 12 Worksheet\n",
    "\n",
    "### Section A - Introducing the Python Dictionary\n",
    "\n",
    "#### RECAP - The 4 main datatypes\n",
    "We have seeen the following 4 main datatypes in Python so far:\n",
    "<ol>\n",
    "<li><span style=\"color:Blue;\">Integer (int)</span> - represents whole numbers</li>\n",
    "<li><span style=\"color:Blue;\">Float (float)</span> - represents numbers with decimal points</li>\n",
    "<li><span style=\"color:Blue;\">String (str)</span> - represents set of characters in between single or double quotes</li>\n",
    "<li><span style=\"color:Blue;\">Boolean (bool)</span> - represents one of two values: True, False</li>\n",
    "</ol>\n",
    "\n",
    "#### Python Dictionary\n",
    "And we have the <b>List</b> datatype that we can use to store more than one value with a variable. Dictionary (<b>dict</b>) is a data structure that contains a collection of values. Each item in the Dictionary is a <u><b>key : value</b> pair</u>. \n",
    "\n",
    "The <b>key</b> must be of a basic data type, that is the key must be an <b>Integer, Float, String, or Boolean</b>. Keys in a Python Dictionary are <b>unique</b>.\n",
    "\n",
    "The <b>value</b> in the <u>key : value</u> pair can be of one of the basic data types, or a List, or even another Dictionary.\n",
    " \n",
    "The key and value are separated by a <b>colon</b> \":\", and each key : value pair is separated by a <b>comma</b> \",\".\n",
    "\n",
    "# Syntax\n",
    "The syntax of Dictionary has an opening curly bracket <b>{</b> and a closing curly bracket <b>}</b>. Inside the brackets, it must contain <u>key : value</u> pair(s) of items. \n",
    "\n",
    "## I. Creating an empty Dictionary\n",
    "To create <u>an empty Dictionary</u> and assigned it to a variable named <i>myDictionary</i>, the syntax is:\n",
    "\n",
    "```python\n",
    "myDictionary = { }  #Starts with an Open Curly Bracket, ends with a Closed Curly Bracket.  \n",
    "```\n",
    "## II. Creating a Python Dictionary with key:value pairs\n",
    "Similar to Python Lists, we can create a Python Dictionary with key:value pairs.  For example:\n",
    "\n",
    "```python\n",
    "myDictionary = { \"apple\":0.65, \"orange\":0.50, \"pear\":0.80 }   \n",
    "```\n",
    "\n",
    "\n",
    "### <em><span style=\"color:Blue;\">Exercise 1 - Identification of Datatypes</span></em>\n",
    "Below is an example of a Python Dictionary to store the points for every letter in a Scrabble game. \n",
    "Assume we created a Python Dictionary to store the point (value) for each letter (key) as follows:\n",
    "\n",
    "```python\n",
    "letterPoint = { 'A':1, 'B':3, 'C':3, 'D':2, 'E':1, 'F':4, 'G':2, 'H':4, 'I':1, 'J':8, 'K':5, 'L':1, 'M':3, 'N':1, 'O':1, 'P':3, 'Q':10, 'R':1, 'S':1, 'T':1, 'U':1, 'V':4, 'W':4, 'X':8, 'Y':4, 'Z':10 }  \n",
    "```\n",
    "What are the data types for the <b>key</b> and <b>value</b> in <i>letterPoint</i>?"
   ]
  },
  {
   "cell_type": "code",
   "execution_count": 3,
   "metadata": {},
   "outputs": [
    {
     "name": "stdout",
     "output_type": "stream",
     "text": [
      "{'SG': 65, 'IN': 91, 'MY': 60, 'ID': 61, 'TH': 66}\n",
      "65\n"
     ]
    }
   ],
   "source": [
    "#  ---------\n",
    "#  Exercise 1 - Write your answers here.\n",
    "#  ---------\n",
    "IDD ={'SG':65,'IN':91,'MY':60,'ID':61,'TH':66}\n",
    "print(IDD)\n",
    "print(IDD['SG'])\n",
    "\n",
    "'''\n",
    "key datatype is string\n",
    "value datatype is integer\n",
    "'''\n"
   ]
  },
  {
   "cell_type": "markdown",
   "metadata": {},
   "source": [
    "### <em><span style=\"color:Blue;\">Exercise 2a - Creating a Python Dictionary with key:value pairs</span></em>\n",
    "Create a Python Dictionary called <b>tickets</b> to store the price for the following ticket types:\n",
    "<table border=1>\n",
    "<tr><th>Ticket Type</th><th>Price ($)</th></tr>\n",
    "<tr><td>Child</td><td>10.50</td></tr>\n",
    "<tr><td>Adult</td><td>20.75</td></tr>\n",
    "<tr><td>Senior Citizen</td><td>8.80</td></tr>\n",
    "</table>\n",
    "<br>\n",
    "Hint: What should be the key and value?  And what are the appropriate data types?"
   ]
  },
  {
   "cell_type": "code",
   "execution_count": 6,
   "metadata": {},
   "outputs": [
    {
     "name": "stdout",
     "output_type": "stream",
     "text": [
      "20.75\n"
     ]
    }
   ],
   "source": [
    "#  ---------\n",
    "#  Exercise 2 - Write your answers here.\n",
    "#  ---------\n",
    "ticket={'Child':10.50,'Adult':20.75,'Senior Citizen':8.80}\n",
    "print(ticket['Adult'])"
   ]
  },
  {
   "cell_type": "markdown",
   "metadata": {},
   "source": [
    "## III. Counting number of key-value pairs in a Dictionary - len() function.\n",
    "\n",
    "<span style=\"color:Blue;\"><strong>len()</strong></span> is a <u>Python built-in function</u>.\n",
    "<br>Recall print() and input() are other built-in functions that are frequently used.\n",
    "<br><br>\n",
    "The len() function returns the number (integer) of items in an object\n",
    "<ul>\n",
    "    <li>When the object is a <strong>String</strong>, the len() function returns the number of characters in the String.\n",
    "    </li>\n",
    "    <li>When the object is a <strong>List</strong>, the len() functions returns the number of items in the List.</li>\n",
    "</ul>\n",
    "\n",
    "len() function can also be used to count the number of key-value pairs in a Dictionary.\n",
    "\n",
    "\n",
    "### <em><span style=\"color:Blue;\">Exercise 3 - len() function</span></em>\n",
    "Write the codes to display the number of key-values pairs in <i>letterPoint</i> using the len() function.\n"
   ]
  },
  {
   "cell_type": "code",
   "execution_count": 7,
   "metadata": {},
   "outputs": [
    {
     "name": "stdout",
     "output_type": "stream",
     "text": [
      "26\n"
     ]
    }
   ],
   "source": [
    "#  ---------\n",
    "#  Exercise 3 - Write your answers here.\n",
    "#  ---------\n",
    "letterPoint = { 'A':1, 'B':3, 'C':3, 'D':2, 'E':1, 'F':4, 'G':2, 'H':4, 'I':1, 'J':8, 'K':5, 'L':1, 'M':3, 'N':1, 'O':1, 'P':3, 'Q':10, 'R':1, 'S':1, 'T':1, 'U':1, 'V':4, 'W':4, 'X':8, 'Y':4, 'Z':10 } \n",
    "print(len(letterPoint))\n"
   ]
  },
  {
   "cell_type": "markdown",
   "metadata": {},
   "source": [
    "## IV. Adding Key:Value pair to a Dictionary\n",
    "\n",
    "Given the following Dictionary:\n",
    "```python\n",
    "myDictionary = { \"apple\":0.65, \"orange\":0.50, \"pear\":0.80 }   \n",
    "```\n",
    "To add a key:value pair for \"kiwi\" that costs 1.20, the syntax is:\n",
    "```python\n",
    "myDictionary[\"kiwi\"] = 1.20\n",
    "```\n",
    "That is&nbsp;&nbsp;&nbsp;&nbsp;<i>variable</i> <b>[</b> <i>new key</i> <b>]</b> <b>=</b> <i>value of new key</i>\n",
    "\n",
    "\n",
    "\n",
    "\n",
    "### <em><span style=\"color:Blue;\">Exercise 4 - Adding key:value pair</span></em>\n",
    "Add a key, 21002023 with value \"Adam\" to the following Dictionary storing userid (key) and names (value).\n",
    "```python\n",
    "myClass = {21002123:\"Peter\", 21002233:\"Mary\"}   \n",
    "```"
   ]
  },
  {
   "cell_type": "code",
   "execution_count": 8,
   "metadata": {},
   "outputs": [
    {
     "name": "stdout",
     "output_type": "stream",
     "text": [
      "{21002123: 'Peter', 21002233: 'Mary', 21002023: 'Adam'}\n"
     ]
    }
   ],
   "source": [
    "#  ---------\n",
    "#  Exercise 4 - Write your answers here.\n",
    "#  ---------\n",
    "myClass = {21002123:\"Peter\", 21002233:\"Mary\"}  \n",
    "myClass[21002023]='Adam'\n",
    "print(myClass)"
   ]
  },
  {
   "cell_type": "markdown",
   "metadata": {},
   "source": [
    "## V. Accessing value in a Dictionary\n",
    "We could access a value in a Dictionary by specifying the <strong>key</strong>/\n",
    "<br>\n",
    "\n",
    "```python\n",
    "myDictionary = { \"apple\":0.65, \"orange\":0.50, \"pear\":0.80 }   \n",
    "```\n",
    "To display the value for \"apple\",\n",
    "```python\n",
    "print(\"The value for 'apple' is \" + str(myDictionary[\"apple\"]))\n",
    "```\n",
    "\n",
    "## VI. Updating a value in a Dictionary\n",
    "The syntax to update a value in a Dictionary is <b>identical</b> with adding a key:value pair.\n",
    "That is, given\n",
    "```python\n",
    "myDictionary = { \"apple\":0.65, \"orange\":0.50, \"pear\":0.80 }   \n",
    "```\n",
    "To update the value for \"orange\" to 0.70, the code is:\n",
    "```python\n",
    "myDictionary[\"orange\"] = 0.70\n",
    "```\n",
    "\n",
    "Since the syntax to add a key:value pair and to update a value in a Dictionary is identical, it is advisable to perform a check if the key alreadys exist using the membership operator, <b>in</b>.\n",
    "For example,\n",
    "```python\n",
    "myDictionary = { \"apple\":0.65, \"orange\":0.50, \"pear\":0.80 }   \n",
    "\n",
    "if \"orange\" in myDictionary:\n",
    "    myDictionary[\"orange\"] = 0.70\n",
    "    print(\"Value for 'orange' is updated.\")\n",
    "else:\n",
    "    myDictionary[\"orange\"] = 0.70\n",
    "    print(\"A new key-value pair is added.\")\n",
    "```\n",
    "\n",
    "### <em><span style=\"color:Blue;\">Exercise 5 - Update the value in a Dictionary</span></em>\n",
    "Change the value for \"pear\" to 1.00."
   ]
  },
  {
   "cell_type": "code",
   "execution_count": 14,
   "metadata": {},
   "outputs": [
    {
     "name": "stdout",
     "output_type": "stream",
     "text": [
      "{'apple': 0.65, 'orange': 0.5, 'pear': 1.0}\n"
     ]
    }
   ],
   "source": [
    "#  ---------\n",
    "#  Exercise 5 - Write your answers here.\n",
    "#  ---------\n",
    "myDictionary = { \"apple\":0.65, \"orange\":0.50, \"pear\":0.80 }   \n",
    "\n",
    "#Write your answer below:\n",
    "myDictionary[\"pear\"]=1.00\n",
    "print(myDictionary)"
   ]
  },
  {
   "cell_type": "markdown",
   "metadata": {
    "collapsed": true
   },
   "source": [
    "## VII. Removing a key:value pair from Dictionary\n",
    "\n",
    "To delete a key:value pair from a Dictionary, we can use the <b>del</b> function with the <b>key</b>.\n",
    "For example to delete \"apple\" from myDictionary:\n",
    "```python\n",
    "myDictionary = { \"apple\":0.65, \"orange\":0.50, \"pear\":0.80 }   \n",
    "\n",
    "del myDictionary[\"apple\"]\n",
    "```\n"
   ]
  },
  {
   "cell_type": "code",
   "execution_count": 15,
   "metadata": {},
   "outputs": [],
   "source": [
    "#  ---------\n",
    "#  Exercise 6 - Execute the codes\n",
    "#  ---------\n",
    "myDictionary = { \"apple\":0.65, \"orange\":0.50, \"pear\":0.80 }\n",
    "del myDictionary(\"Orange\")\n",
    "\n",
    "## Write your observations here\n",
    "'''\n",
    "The key values are case sensitive.The key \"Orange\" does not exist in myDictionary.Thus,python displays an error message.\n",
    "The key\"Orange\" is different from the key \"orange'\n",
    "'''"
   ]
  },
  {
   "cell_type": "markdown",
   "metadata": {},
   "source": [
    "#### IMPORTANT: To check for the existence of the key before deletion.\n",
    "If we try to delete a key:value pair with a key that does not exist in the Dictionary, the program crashes.\n",
    "\n",
    "It is important to check the key exists before deleting:\n",
    "\n",
    "An example:\n",
    "```python\n",
    "myDictionary = { \"apple\":0.65, \"orange\":0.50, \"pear\":0.80 }\n",
    "\n",
    "if \"Orange\" in myDictionary:\n",
    "    del myDictionary[\"Orange\"]\n",
    "else:\n",
    "    print(\"Orange is not found in the Dictionary.\")\n",
    "```\n",
    "### <em><span style=\"color:Blue;\">Exercise 7 - Check before deleting</span></em>\n",
    "Write a program to ask a user to enter a key to be deleted from the Dictionary.\n",
    "If the key exists in the Dictionary, delete the key:value pair.  Otherwise, display a \"Not found\" message."
   ]
  },
  {
   "cell_type": "code",
   "execution_count": 20,
   "metadata": {},
   "outputs": [
    {
     "name": "stdout",
     "output_type": "stream",
     "text": [
      "{'orange': 0.5, 'pear': 0.8}\n"
     ]
    }
   ],
   "source": [
    "myDictionary = { \"apple\":0.65, \"orange\":0.50, \"pear\":0.80 }\n",
    "\n",
    "#  ---------\n",
    "#  Exercise 7 - Write your answers here.\n",
    "#  ---------\n",
    "fruit = input(\"Enter a fruit to delete: \")\n",
    "if fruit in myDictionary:\n",
    "    del myDictionary[fruit]\n",
    "    print(myDictionary)\n",
    "else:\n",
    "    print(fruit +\" is not found in the Dictionary.\")\n"
   ]
  },
  {
   "cell_type": "markdown",
   "metadata": {},
   "source": []
  }
 ],
 "metadata": {
  "kernelspec": {
   "display_name": "Python 3.8.6 64-bit",
   "language": "python",
   "name": "python3"
  },
  "language_info": {
   "codemirror_mode": {
    "name": "ipython",
    "version": 3
   },
   "file_extension": ".py",
   "mimetype": "text/x-python",
   "name": "python",
   "nbconvert_exporter": "python",
   "pygments_lexer": "ipython3",
   "version": "3.8.6"
  },
  "vscode": {
   "interpreter": {
    "hash": "9650cb4e16cdd4a8e8e2d128bf38d875813998db22a3c986335f89e0cb4d7bb2"
   }
  }
 },
 "nbformat": 4,
 "nbformat_minor": 2
}
